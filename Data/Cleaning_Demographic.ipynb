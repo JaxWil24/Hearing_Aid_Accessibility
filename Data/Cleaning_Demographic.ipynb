{
 "cells": [
  {
   "cell_type": "code",
   "execution_count": null,
   "id": "556203a6",
   "metadata": {},
   "outputs": [],
   "source": [
    "# Add the Pandas dependency.\n",
    "import pandas as pd"
   ]
  },
  {
   "cell_type": "code",
   "execution_count": null,
   "id": "a03bc021",
   "metadata": {},
   "outputs": [],
   "source": [
    "# File to Load\n",
    "#demographic = \"Data/demographic.csv\""
   ]
  },
  {
   "cell_type": "code",
   "execution_count": null,
   "id": "7b8187e0",
   "metadata": {},
   "outputs": [],
   "source": [
    "# Read the data and store it in a Pandas DataFrame.\n",
    "#demo_df = pd.read_csv(demographic)\n",
    "#demo_df"
   ]
  },
  {
   "cell_type": "code",
   "execution_count": null,
   "id": "92069499",
   "metadata": {},
   "outputs": [],
   "source": [
    "# Drop the NaNs.\n",
    "demo_df.dropna()"
   ]
  },
  {
   "cell_type": "code",
   "execution_count": null,
   "id": "68882b3b",
   "metadata": {},
   "outputs": [],
   "source": [
    "# Fill in the empty rows.\n",
    "#demo_df.fillna()"
   ]
  }
 ],
 "metadata": {
  "kernelspec": {
   "display_name": "mlenv",
   "language": "python",
   "name": "mlenv"
  },
  "language_info": {
   "codemirror_mode": {
    "name": "ipython",
    "version": 3
   },
   "file_extension": ".py",
   "mimetype": "text/x-python",
   "name": "python",
   "nbconvert_exporter": "python",
   "pygments_lexer": "ipython3",
   "version": "3.7.13"
  }
 },
 "nbformat": 4,
 "nbformat_minor": 5
}
