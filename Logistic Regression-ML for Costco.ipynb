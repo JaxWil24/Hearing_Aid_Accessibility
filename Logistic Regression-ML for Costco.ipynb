{
 "cells": [
  {
   "cell_type": "markdown",
   "id": "0c5ba70a",
   "metadata": {},
   "source": [
    "#  Predicting the opening of Costco stores based on hearing aids accessibility\n",
    "\n",
    "Using Logistic Regression as a statistical method for predicting binary outcomes from data. In this case: \"yes there is a costco here\" vs \"no there is no a costco here\"\n",
    "\n",
    "These are categories that translate to probability of being a 0 or a 1\n",
    "\n",
    "Logistic regression predicts binary outcomes, meaning that there are only two possible outcomes. For this analysis, we would find what features in our data set seem to predict that there is a costco and use that to built the model. Multiple variables have to be taken in consideration, such as an costco's location, demographics, education and income, these will be assessed to arrive at one of two answers: yes there is a costco and no there is no a costco in this location. In other words, this logistic regression model will analyze the available data, and when presented with a new sample, mathematically determines its probability of belonging to a class. The testing set we would try and predict where they would or would not have a costco. If the probability is above a certain cutoff point, let's say as an example 70%, the sample is assigned to that class. If the probability is less than the cutoff point, the sample is assigned to the other class. \n",
    "\n",
    "Let's summarize the steps we took to use a logistic regression model: Create a model with LogisticRegression(). Train the model with model.fit(). Make predictions with model.predict(). Validate the model with accuracy_score().\n",
    "\n"
   ]
  },
  {
   "cell_type": "code",
   "execution_count": 2,
   "id": "85b1599b",
   "metadata": {},
   "outputs": [],
   "source": [
    "#Import libraries\n",
    "\n",
    "from path import Path\n",
    "import pandas as pd\n",
    "import matplotlib.pyplot as plt\n",
    "import pandas as pd"
   ]
  },
  {
   "cell_type": "code",
   "execution_count": null,
   "id": "0063712c",
   "metadata": {},
   "outputs": [],
   "source": [
    "# Read in data from S3 Buckets - the \"Database\" system we are using\n",
    "from pyspark import SparkFiles\n",
    "\n",
    "# Cleaned ACS Data\n",
    "url=\"https://<bucket name>.s3.amazonaws.com/cleaned_acs_demographics.csv\" \n",
    "spark.sparkContext.addFile(url)\n",
    "cleaned_acs_demographics_df = spark.read.csv(SparkFiles.get(\"cleaned_acs_demographics.csv\"), sep=\",\", header=True, inferSchema=True)\n",
    "\n",
    "# Show DataFrame\n",
    "cleaned_acs_demographics_df.show()"
   ]
  },
  {
   "cell_type": "code",
   "execution_count": null,
   "id": "7d3a1146",
   "metadata": {},
   "outputs": [],
   "source": [
    "#Cleaned Costco Data\n",
    "url=\"https://<bucket name>.s3.amazonaws.com/cleaned_costco.csv\" \n",
    "spark.sparkContext.addFile(url)\n",
    "cleaned_demographic_df = spark.read.csv(SparkFiles.get(\"cleaned_costco.csv\"), sep=\",\", header=True, inferSchema=True)\n",
    "\n",
    "# Show DataFrame\n",
    "cleaned_costco_df.show()\n"
   ]
  },
  {
   "cell_type": "code",
   "execution_count": null,
   "id": "b48754b2",
   "metadata": {},
   "outputs": [],
   "source": [
    "# Join the two DataFrame\n",
    "joined_df= cleaned_acs_demographics_df.join(cleaned_costco_df, on=\"zip code\", how=\"inner\")\n",
    "joined_df.show()"
   ]
  },
  {
   "cell_type": "markdown",
   "id": "58bfda96",
   "metadata": {},
   "source": [
    "# Separate the Features (X) from the Target (y)"
   ]
  },
  {
   "cell_type": "code",
   "execution_count": null,
   "id": "94802869",
   "metadata": {},
   "outputs": [],
   "source": [
    "y = df[\"Feature(s)\"]\n",
    "X = df.drop(columns=\"Feature (s)\")"
   ]
  },
  {
   "cell_type": "markdown",
   "id": "f1790f2f",
   "metadata": {},
   "source": [
    "# Split our data into training and testing"
   ]
  },
  {
   "cell_type": "code",
   "execution_count": null,
   "id": "52ad8d86",
   "metadata": {},
   "outputs": [],
   "source": [
    "from sklearn.model_selection import train_test_split\n",
    "\n",
    "X_train, X_test, y_train, y_test = train_test_split(X, \n",
    "                                                    y, \n",
    "                                                    random_state=1, \n",
    "                                                    stratify=y)\n",
    "X_train.shape"
   ]
  },
  {
   "cell_type": "markdown",
   "id": "76bf7f9f",
   "metadata": {},
   "source": [
    "# Create a Logistic Regression Model"
   ]
  },
  {
   "cell_type": "code",
   "execution_count": null,
   "id": "85855d1c",
   "metadata": {},
   "outputs": [],
   "source": [
    "from sklearn.linear_model import LogisticRegression\n",
    "classifier = LogisticRegression(solver='lbfgs',\n",
    "                                max_iter=200,\n",
    "                                random_state=1)\n"
   ]
  },
  {
   "cell_type": "markdown",
   "id": "b67cb11e",
   "metadata": {},
   "source": [
    "# Fit (train) or model using the training data"
   ]
  },
  {
   "cell_type": "code",
   "execution_count": null,
   "id": "6dc58295",
   "metadata": {},
   "outputs": [],
   "source": [
    "# Train the data\n",
    "classifier.fit(X_train, y_train)"
   ]
  },
  {
   "cell_type": "markdown",
   "id": "0e5c179b",
   "metadata": {},
   "source": [
    "# Make predictions"
   ]
  },
  {
   "cell_type": "code",
   "execution_count": null,
   "id": "ba6b7866",
   "metadata": {},
   "outputs": [],
   "source": [
    "# Predict outcomes for test data set\n",
    "y_pred = classifier.predict(X_test)\n",
    "results = pd.DataFrame({\"Prediction\": y_pred, \"Actual\": y_test}).reset_index(drop=True)\n",
    "results.head()"
   ]
  },
  {
   "cell_type": "markdown",
   "id": "937336bd",
   "metadata": {},
   "source": [
    "# Validate the model using the test data"
   ]
  },
  {
   "cell_type": "code",
   "execution_count": null,
   "id": "3e629428",
   "metadata": {},
   "outputs": [],
   "source": [
    "from sklearn.metrics import accuracy_score\n",
    "print(accuracy_score(y_test, y_pred))"
   ]
  },
  {
   "cell_type": "code",
   "execution_count": null,
   "id": "e54d67b1",
   "metadata": {},
   "outputs": [],
   "source": []
  }
 ],
 "metadata": {
  "kernelspec": {
   "display_name": "mlenv",
   "language": "python",
   "name": "mlenv"
  },
  "language_info": {
   "codemirror_mode": {
    "name": "ipython",
    "version": 3
   },
   "file_extension": ".py",
   "mimetype": "text/x-python",
   "name": "python",
   "nbconvert_exporter": "python",
   "pygments_lexer": "ipython3",
   "version": "3.8.13"
  }
 },
 "nbformat": 4,
 "nbformat_minor": 5
}
